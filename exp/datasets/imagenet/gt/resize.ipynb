{
 "cells": [
  {
   "cell_type": "code",
   "execution_count": 2,
   "id": "12ba05bf",
   "metadata": {},
   "outputs": [],
   "source": [
    "%pwd\n",
    "import torchvision\n",
    "import torch\n",
    "import torchvision.transforms as transforms\n",
    "from PIL import Image"
   ]
  },
  {
   "cell_type": "code",
   "execution_count": 10,
   "id": "c2c8edce",
   "metadata": {},
   "outputs": [],
   "source": [
    "# Load the image\n",
    "img = Image.open(\"/workspace/DDNM/exp/datasets/imagenet/gt/54_clean.png\")\n",
    "\n",
    "# Define the transform\n",
    "transform = transforms.Compose([\n",
    "    transforms.Resize(256),\n",
    "                        transforms.CenterCrop(256),\n",
    "                        transforms.ToTensor()\n",
    "])\n",
    "\n",
    "# Apply the transform to the image\n",
    "img_transformed = transform(img)\n",
    "torchvision.utils.save_image(img_transformed, \"/workspace/DDNM/exp/datasets/imagenet/gt/54_clean_256.png\")"
   ]
  },
  {
   "cell_type": "code",
   "execution_count": 10,
   "id": "660d6f9a",
   "metadata": {},
   "outputs": [],
   "source": []
  },
  {
   "cell_type": "code",
   "execution_count": 11,
   "id": "eeec3f7d",
   "metadata": {},
   "outputs": [],
   "source": []
  },
  {
   "cell_type": "code",
   "execution_count": null,
   "id": "8f909511",
   "metadata": {},
   "outputs": [],
   "source": []
  }
 ],
 "metadata": {
  "kernelspec": {
   "display_name": "Python 3 (ipykernel)",
   "language": "python",
   "name": "python3"
  },
  "language_info": {
   "codemirror_mode": {
    "name": "ipython",
    "version": 3
   },
   "file_extension": ".py",
   "mimetype": "text/x-python",
   "name": "python",
   "nbconvert_exporter": "python",
   "pygments_lexer": "ipython3",
   "version": "3.8.12"
  }
 },
 "nbformat": 4,
 "nbformat_minor": 5
}
